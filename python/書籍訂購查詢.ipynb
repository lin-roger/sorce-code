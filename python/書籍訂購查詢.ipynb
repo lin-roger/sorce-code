{
 "cells": [
  {
   "cell_type": "code",
   "execution_count": 1,
   "source": [
    "import pandas as pd"
   ],
   "outputs": [],
   "metadata": {}
  },
  {
   "cell_type": "code",
   "execution_count": 2,
   "source": [
    "data=pd.read_csv('book.csv')"
   ],
   "outputs": [],
   "metadata": {}
  },
  {
   "cell_type": "code",
   "execution_count": 3,
   "source": [
    "print(data)"
   ],
   "outputs": [
    {
     "output_type": "stream",
     "name": "stdout",
     "text": [
      "    管理學              .1   計概        .2    .3  微積分        .4    .5\n",
      "0    學號      支付方法  支付確認   學號      支付方法  支付確認   學號      支付方法  支付確認\n",
      "1   003        現金   NaN  003        現金   NaN  003        現金   NaN\n",
      "2   006        現金   NaN  007        現金   NaN  006        現金   NaN\n",
      "3   007        現金   NaN  014        現金   NaN  007        現金   NaN\n",
      "4   011        現金   NaN  015        現金   NaN  015        現金   NaN\n",
      "5   014        現金   NaN  020        現金   NaN  018        現金   NaN\n",
      "6   027        現金   NaN  022        現金   NaN  020        現金   NaN\n",
      "7   022        現金   NaN  023        現金   NaN  022        現金   NaN\n",
      "8   023        現金   NaN  024        現金   NaN  023        現金   NaN\n",
      "9   024        現金   NaN  027        現金   NaN  024        現金   NaN\n",
      "10  025        現金   NaN  036        現金   NaN  025        現金   NaN\n",
      "11  028        現金   NaN  039        現金   NaN  027        現金   NaN\n",
      "12  030        現金   NaN  040        現金   NaN  040        現金   NaN\n",
      "13  033        現金   NaN  044        現金   NaN  044        現金   NaN\n",
      "14  040        現金   NaN  046        現金   NaN  045        現金   NaN\n",
      "15  044        現金   NaN  047        現金   NaN  047        現金   NaN\n",
      "16  046        現金   NaN  051        現金   NaN  051        現金   NaN\n",
      "17  047        現金   NaN  054        現金   NaN  058        現金   NaN\n",
      "18  059        現金   NaN  056        現金   NaN  026        匯款   NaN\n",
      "19  026        匯款   NaN  059        現金   NaN  032        匯款   NaN\n",
      "20  034        匯款   NaN  002        匯款   NaN  034        匯款   NaN\n",
      "21  037        匯款   NaN  026        匯款   NaN  048        匯款   NaN\n",
      "22  048        匯款   NaN  032        匯款   NaN  064        匯款   NaN\n",
      "23  049        匯款   NaN  034        匯款   NaN  050  line pay   NaN\n",
      "24  057        匯款   NaN  048        匯款   NaN  NaN       NaN   NaN\n",
      "25  064        匯款   NaN  064        匯款   NaN  NaN       NaN   NaN\n",
      "26  050  line pay   NaN  050  line pay   NaN  NaN       NaN   NaN\n"
     ]
    }
   ],
   "metadata": {}
  }
 ],
 "metadata": {
  "kernelspec": {
   "name": "python3",
   "display_name": "Python 3.8.10 64-bit"
  },
  "language_info": {
   "codemirror_mode": {
    "name": "ipython",
    "version": 3
   },
   "file_extension": ".py",
   "mimetype": "text/x-python",
   "name": "python",
   "nbconvert_exporter": "python",
   "pygments_lexer": "ipython3",
   "version": "3.8.10"
  },
  "interpreter": {
   "hash": "31f2aee4e71d21fbe5cf8b01ff0e069b9275f58929596ceb00d14d90e3e16cd6"
  }
 },
 "nbformat": 4,
 "nbformat_minor": 5
}